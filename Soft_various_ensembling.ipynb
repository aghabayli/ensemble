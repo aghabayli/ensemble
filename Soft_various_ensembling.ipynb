{
  "nbformat": 4,
  "nbformat_minor": 0,
  "metadata": {
    "colab": {
      "name": "Soft_various_ensembling.ipynb",
      "version": "0.3.2",
      "provenance": [],
      "collapsed_sections": [],
      "include_colab_link": true
    },
    "kernelspec": {
      "name": "python3",
      "display_name": "Python 3"
    },
    "accelerator": "GPU"
  },
  "cells": [
    {
      "cell_type": "markdown",
      "metadata": {
        "id": "view-in-github",
        "colab_type": "text"
      },
      "source": [
        "<a href=\"https://colab.research.google.com/github/aghabayli/ensemble/blob/master/Soft_various_ensembling.ipynb\" target=\"_parent\"><img src=\"https://colab.research.google.com/assets/colab-badge.svg\" alt=\"Open In Colab\"/></a>"
      ]
    },
    {
      "cell_type": "code",
      "metadata": {
        "id": "veyD-L8KcdzZ",
        "colab_type": "code",
        "outputId": "7ba02e74-83bb-408e-f69a-0922061505d1",
        "colab": {
          "base_uri": "https://localhost:8080/",
          "height": 35
        }
      },
      "source": [
        "#Connect to GPU\n",
        "import tensorflow as tf\n",
        "tf.test.gpu_device_name()"
      ],
      "execution_count": 0,
      "outputs": [
        {
          "output_type": "execute_result",
          "data": {
            "text/plain": [
              "'/device:GPU:0'"
            ]
          },
          "metadata": {
            "tags": []
          },
          "execution_count": 1
        }
      ]
    },
    {
      "cell_type": "code",
      "metadata": {
        "id": "0QNZR0hbckJ0",
        "colab_type": "code",
        "colab": {}
      },
      "source": [
        "#Connect to the google drive\n",
        "from google.colab import drive\n",
        "drive.mount('/content/gdrive')"
      ],
      "execution_count": 0,
      "outputs": []
    },
    {
      "cell_type": "code",
      "metadata": {
        "id": "qVuWE4O_exb3",
        "colab_type": "code",
        "colab": {}
      },
      "source": [
        "#!apt-get install python3-venv\n",
        "#!python3 -m venv myenv/env_ensemble\n",
        "#!source myenv/env_ensemble/bin/activate\n",
        "!pip uninstall numpy==1.16.3\n",
        "!pip install numpy==1.16.1\n",
        "#!pip uninstall kashgari\n",
        "!pip install /content/gdrive/My\\ Drive/Kashgari/"
      ],
      "execution_count": 0,
      "outputs": []
    },
    {
      "cell_type": "code",
      "metadata": {
        "id": "ZVMh8a6kkDlx",
        "colab_type": "code",
        "colab": {}
      },
      "source": [
        "#Import libraries\n",
        "from keras.datasets import reuters\n",
        "import numpy as np\n",
        "from sklearn.model_selection import train_test_split\n",
        "\n",
        "#Download the Reuters data set from Keras\n",
        "(X_data, y_data), (X_test, y_test)  = reuters.load_data(path=\"../reuters.npz\", num_words=None,skip_top=0,maxlen=None,test_split=0.2,seed=113,start_char=1,oov_char=2,index_from=3)\n",
        "\n",
        "X_train, X_val, y_train, y_val = train_test_split(X_data, y_data, test_size=0.60, random_state=113)"
      ],
      "execution_count": 0,
      "outputs": []
    },
    {
      "cell_type": "code",
      "metadata": {
        "id": "1BG1YvzMr57e",
        "colab_type": "code",
        "outputId": "44f1ed67-366d-4e6b-d2b7-f6df5ed03811",
        "colab": {
          "base_uri": "https://localhost:8080/",
          "height": 173
        }
      },
      "source": [
        "print(X_train[0])\n",
        "print(y_train[0])\n",
        "print(X_train.shape)\n",
        "print(y_train.shape)\n",
        "print(X_val.shape)\n",
        "print(y_val.shape)\n",
        "print(X_test.shape)\n",
        "print(y_test.shape)"
      ],
      "execution_count": 0,
      "outputs": [
        {
          "output_type": "stream",
          "text": [
            "[1, 37, 412, 961, 202, 10, 146, 1315, 878, 466, 750, 445, 7, 91, 6, 10, 135, 32, 767, 11, 58, 83, 59, 20, 5, 4, 2023, 4, 1427, 213, 8, 7, 93, 878, 466, 961, 202, 27, 42, 8207, 553, 360, 639, 6, 12, 1477, 11, 58, 83, 72, 20, 16, 8, 4, 1832, 4203, 135, 7, 91, 348, 5739, 10745, 11480, 202, 10, 146, 2442, 18, 6, 32, 818, 11, 58, 83, 63, 20, 22, 6906, 12, 160, 11, 160, 32, 20, 91, 34, 4, 8454, 4494, 433, 22, 10, 2580, 54, 1489, 5, 160, 59, 20, 4, 1427, 213, 8, 961, 40, 1909, 6, 136, 109, 11, 13, 4, 99, 216, 7, 117, 109, 206, 4, 91, 302, 5, 750, 18, 34, 4, 473, 499, 224, 4045, 62, 99, 2344, 7, 10950, 1427, 262, 7221, 11801, 8, 137, 2554, 57, 994, 488, 305, 2260, 7, 295, 277, 961, 281, 4, 585, 29, 36, 152, 4, 54, 216, 4, 466, 135, 5, 4046, 34, 420, 109, 11, 34, 429, 1049, 184, 4, 1832, 135, 34, 54, 420, 52, 320, 7, 252, 1600, 17, 12]\n",
            "30\n",
            "(3592,)\n",
            "(3592,)\n",
            "(5390,)\n",
            "(5390,)\n",
            "(2246,)\n",
            "(2246,)\n"
          ],
          "name": "stdout"
        }
      ]
    },
    {
      "cell_type": "code",
      "metadata": {
        "id": "kvHGG--rkLm3",
        "colab_type": "code",
        "colab": {}
      },
      "source": [
        "#Constructing data to available input format at Kashgari\n",
        "X_train = [[str(j) for j in i ]for i in X_train ]\n",
        "y_train = [ str(i) for i in y_train ]\n",
        "\n",
        "X_val = [[str(j) for j in i ]for i in X_val ]\n",
        "y_val = [ str(i) for i in y_val ]\n",
        "\n",
        "X_test = [[str(j) for j in i ]for i in X_test ]\n",
        "y_test = [ str(i) for i in y_test ]"
      ],
      "execution_count": 0,
      "outputs": []
    },
    {
      "cell_type": "code",
      "metadata": {
        "id": "Gii8iZZRtlmj",
        "colab_type": "code",
        "outputId": "24264284-66ba-4b09-dcc8-ff7bc10213da",
        "colab": {
          "base_uri": "https://localhost:8080/",
          "height": 72
        }
      },
      "source": [
        "print(X_train[0])\n",
        "y_train[0]"
      ],
      "execution_count": 0,
      "outputs": [
        {
          "output_type": "stream",
          "text": [
            "['1', '37', '412', '961', '202', '10', '146', '1315', '878', '466', '750', '445', '7', '91', '6', '10', '135', '32', '767', '11', '58', '83', '59', '20', '5', '4', '2023', '4', '1427', '213', '8', '7', '93', '878', '466', '961', '202', '27', '42', '8207', '553', '360', '639', '6', '12', '1477', '11', '58', '83', '72', '20', '16', '8', '4', '1832', '4203', '135', '7', '91', '348', '5739', '10745', '11480', '202', '10', '146', '2442', '18', '6', '32', '818', '11', '58', '83', '63', '20', '22', '6906', '12', '160', '11', '160', '32', '20', '91', '34', '4', '8454', '4494', '433', '22', '10', '2580', '54', '1489', '5', '160', '59', '20', '4', '1427', '213', '8', '961', '40', '1909', '6', '136', '109', '11', '13', '4', '99', '216', '7', '117', '109', '206', '4', '91', '302', '5', '750', '18', '34', '4', '473', '499', '224', '4045', '62', '99', '2344', '7', '10950', '1427', '262', '7221', '11801', '8', '137', '2554', '57', '994', '488', '305', '2260', '7', '295', '277', '961', '281', '4', '585', '29', '36', '152', '4', '54', '216', '4', '466', '135', '5', '4046', '34', '420', '109', '11', '34', '429', '1049', '184', '4', '1832', '135', '34', '54', '420', '52', '320', '7', '252', '1600', '17', '12']\n"
          ],
          "name": "stdout"
        },
        {
          "output_type": "execute_result",
          "data": {
            "text/plain": [
              "'30'"
            ]
          },
          "metadata": {
            "tags": []
          },
          "execution_count": 5
        }
      ]
    },
    {
      "cell_type": "code",
      "metadata": {
        "id": "aTjKC8vEz0AP",
        "colab_type": "code",
        "colab": {
          "base_uri": "https://localhost:8080/",
          "height": 35
        },
        "outputId": "b85be52f-30bd-4ae6-918d-f4d2a170ec22"
      },
      "source": [
        "#Import libraries to train\n",
        "from kashgari.tasks.classification import CNNModel, CNNLSTMModel, BLSTMModel, DropoutBGRUModel,KMaxCNNModel \n",
        "from sklearn.metrics import accuracy_score, confusion_matrix\n",
        "from numpy import dstack"
      ],
      "execution_count": 1,
      "outputs": [
        {
          "output_type": "stream",
          "text": [
            "Using TensorFlow backend.\n"
          ],
          "name": "stderr"
        }
      ]
    },
    {
      "cell_type": "code",
      "metadata": {
        "id": "c4fRbKApSSRg",
        "colab_type": "code",
        "colab": {}
      },
      "source": [
        "def prediction(models, X_data, y_data = None):\n",
        "\n",
        "  predictions = None\n",
        "\n",
        "  #Predict for each individual model\n",
        "  for model in models:\n",
        "    #Soft classification prediction\n",
        "    pr = model.predict(X_data, soft=True)\n",
        "    \n",
        "    #model.evaluate(X_data, y_data)\n",
        "    \n",
        "    #Stacking depth wise\n",
        "    if predictions is None:\n",
        "      predictions = np.array(pr)\n",
        "    else:\n",
        "      predictions = dstack((predictions, np.array(pr)))\n",
        "  return predictions"
      ],
      "execution_count": 0,
      "outputs": []
    },
    {
      "cell_type": "code",
      "metadata": {
        "id": "o5Tv-PVUZnTH",
        "colab_type": "code",
        "outputId": "73a6cf21-2ed3-4e8b-f17a-cdc7c80aa63d",
        "colab": {
          "base_uri": "https://localhost:8080/",
          "height": 2970
        }
      },
      "source": [
        "#Identify individual models\n",
        "cl1 = CNNModel()\n",
        "cl2 = BLSTMModel()\n",
        "cl3 = DropoutBGRUModel()\n",
        "cl4 = KMaxCNNModel()\n",
        "\n",
        "#List of the models\n",
        "classifier = [cl1, cl2, cl3, cl4]\n",
        "\n",
        "predictions = None\n",
        "#Create a list for pre-ensemble models\n",
        "models = list()\n",
        "\n",
        "\n",
        "#Train n individual models\n",
        "for i in range(len(classifier)):\n",
        "    #Fit train data\n",
        "    classifier[i].fit(X_train,y_train, multi_label=True, epochs = 3)\n",
        "    #Append to list trained classifier\n",
        "    models.append(classifier[i])\n",
        "    #Predict soft classification on train data\n",
        "    predicted = classifier[i].predict(X_train, soft=True)\n",
        "    #Stack all predictions \n",
        "    if predictions is None:\n",
        "        predictions = np.array(predicted)\n",
        "    else:\n",
        "        #Stack depth wise\n",
        "        predictions = dstack((predictions, np.array(predicted)))"
      ],
      "execution_count": 0,
      "outputs": [
        {
          "output_type": "stream",
          "text": [
            "WARNING:tensorflow:From /usr/local/lib/python3.6/dist-packages/tensorflow/python/framework/op_def_library.py:263: colocate_with (from tensorflow.python.framework.ops) is deprecated and will be removed in a future version.\n",
            "Instructions for updating:\n",
            "Colocations handled automatically by placer.\n"
          ],
          "name": "stdout"
        },
        {
          "output_type": "stream",
          "text": [
            "WARNING:tensorflow:From /usr/local/lib/python3.6/dist-packages/tensorflow/python/framework/op_def_library.py:263: colocate_with (from tensorflow.python.framework.ops) is deprecated and will be removed in a future version.\n",
            "Instructions for updating:\n",
            "Colocations handled automatically by placer.\n"
          ],
          "name": "stderr"
        },
        {
          "output_type": "stream",
          "text": [
            "_________________________________________________________________\n",
            "Layer (type)                 Output Shape              Param #   \n",
            "=================================================================\n",
            "input_1 (InputLayer)         (None, 450)               0         \n",
            "_________________________________________________________________\n",
            "embedding_1 (Embedding)      (None, 450, 100)          959800    \n",
            "_________________________________________________________________\n",
            "conv1d_1 (Conv1D)            (None, 446, 128)          64128     \n",
            "_________________________________________________________________\n",
            "global_max_pooling1d_1 (Glob (None, 128)               0         \n",
            "_________________________________________________________________\n",
            "dense_1 (Dense)              (None, 64)                8256      \n",
            "_________________________________________________________________\n",
            "dense_2 (Dense)              (None, 47)                3055      \n",
            "=================================================================\n",
            "Total params: 1,035,239\n",
            "Trainable params: 1,035,239\n",
            "Non-trainable params: 0\n",
            "_________________________________________________________________\n",
            "WARNING:tensorflow:From /usr/local/lib/python3.6/dist-packages/tensorflow/python/ops/math_ops.py:3066: to_int32 (from tensorflow.python.ops.math_ops) is deprecated and will be removed in a future version.\n",
            "Instructions for updating:\n",
            "Use tf.cast instead.\n"
          ],
          "name": "stdout"
        },
        {
          "output_type": "stream",
          "text": [
            "WARNING:tensorflow:From /usr/local/lib/python3.6/dist-packages/tensorflow/python/ops/math_ops.py:3066: to_int32 (from tensorflow.python.ops.math_ops) is deprecated and will be removed in a future version.\n",
            "Instructions for updating:\n",
            "Use tf.cast instead.\n"
          ],
          "name": "stderr"
        },
        {
          "output_type": "stream",
          "text": [
            "WARNING:tensorflow:From /usr/local/lib/python3.6/dist-packages/tensorflow/python/ops/math_grad.py:102: div (from tensorflow.python.ops.math_ops) is deprecated and will be removed in a future version.\n",
            "Instructions for updating:\n",
            "Deprecated in favor of operator or tf.math.divide.\n"
          ],
          "name": "stdout"
        },
        {
          "output_type": "stream",
          "text": [
            "WARNING:tensorflow:From /usr/local/lib/python3.6/dist-packages/tensorflow/python/ops/math_grad.py:102: div (from tensorflow.python.ops.math_ops) is deprecated and will be removed in a future version.\n",
            "Instructions for updating:\n",
            "Deprecated in favor of operator or tf.math.divide.\n"
          ],
          "name": "stderr"
        },
        {
          "output_type": "stream",
          "text": [
            "Epoch 1/3\n",
            "56/56 [==============================] - 5s 86ms/step - loss: 2.7961 - acc: 0.3728\n",
            "Epoch 2/3\n",
            "56/56 [==============================] - 1s 18ms/step - loss: 1.8519 - acc: 0.5246\n",
            "Epoch 3/3\n",
            "56/56 [==============================] - 1s 19ms/step - loss: 1.5497 - acc: 0.6275\n",
            "_________________________________________________________________\n",
            "Layer (type)                 Output Shape              Param #   \n",
            "=================================================================\n",
            "input_2 (InputLayer)         (None, 450)               0         \n",
            "_________________________________________________________________\n",
            "embedding_2 (Embedding)      (None, 450, 100)          959800    \n",
            "_________________________________________________________________\n",
            "bidirectional_1 (Bidirection (None, 512)               731136    \n",
            "_________________________________________________________________\n",
            "dense_3 (Dense)              (None, 47)                24111     \n",
            "=================================================================\n",
            "Total params: 1,715,047\n",
            "Trainable params: 1,715,047\n",
            "Non-trainable params: 0\n",
            "_________________________________________________________________\n",
            "Epoch 1/3\n",
            "56/56 [==============================] - 120s 2s/step - loss: 2.3478 - acc: 0.4244\n",
            "Epoch 2/3\n",
            "56/56 [==============================] - 116s 2s/step - loss: 1.7102 - acc: 0.5567\n",
            "Epoch 3/3\n",
            "56/56 [==============================] - 116s 2s/step - loss: 1.5187 - acc: 0.6122\n",
            "WARNING:tensorflow:From /usr/local/lib/python3.6/dist-packages/keras/backend/tensorflow_backend.py:3445: calling dropout (from tensorflow.python.ops.nn_ops) with keep_prob is deprecated and will be removed in a future version.\n",
            "Instructions for updating:\n",
            "Please use `rate` instead of `keep_prob`. Rate should be set to `rate = 1 - keep_prob`.\n"
          ],
          "name": "stdout"
        },
        {
          "output_type": "stream",
          "text": [
            "WARNING:tensorflow:From /usr/local/lib/python3.6/dist-packages/keras/backend/tensorflow_backend.py:3445: calling dropout (from tensorflow.python.ops.nn_ops) with keep_prob is deprecated and will be removed in a future version.\n",
            "Instructions for updating:\n",
            "Please use `rate` instead of `keep_prob`. Rate should be set to `rate = 1 - keep_prob`.\n"
          ],
          "name": "stderr"
        },
        {
          "output_type": "stream",
          "text": [
            "__________________________________________________________________________________________________\n",
            "Layer (type)                    Output Shape         Param #     Connected to                     \n",
            "==================================================================================================\n",
            "input_3 (InputLayer)            (None, 450)          0                                            \n",
            "__________________________________________________________________________________________________\n",
            "embedding_3 (Embedding)         (None, 450, 100)     959800      input_3[0][0]                    \n",
            "__________________________________________________________________________________________________\n",
            "spatial_dropout1d_1 (SpatialDro (None, 450, 100)     0           embedding_3[0][0]                \n",
            "__________________________________________________________________________________________________\n",
            "bidirectional_2 (Bidirectional) (None, 450, 128)     63360       spatial_dropout1d_1[0][0]        \n",
            "__________________________________________________________________________________________________\n",
            "dropout_1 (Dropout)             (None, 450, 128)     0           bidirectional_2[0][0]            \n",
            "__________________________________________________________________________________________________\n",
            "bidirectional_3 (Bidirectional) (None, 450, 128)     74112       dropout_1[0][0]                  \n",
            "__________________________________________________________________________________________________\n",
            "last (Lambda)                   (None, 128)          0           bidirectional_3[0][0]            \n",
            "__________________________________________________________________________________________________\n",
            "global_max_pooling1d_2 (GlobalM (None, 128)          0           bidirectional_3[0][0]            \n",
            "__________________________________________________________________________________________________\n",
            "global_average_pooling1d_1 (Glo (None, 128)          0           bidirectional_3[0][0]            \n",
            "__________________________________________________________________________________________________\n",
            "concatenate_1 (Concatenate)     (None, 384)          0           last[0][0]                       \n",
            "                                                                 global_max_pooling1d_2[0][0]     \n",
            "                                                                 global_average_pooling1d_1[0][0] \n",
            "__________________________________________________________________________________________________\n",
            "dropout_2 (Dropout)             (None, 384)          0           concatenate_1[0][0]              \n",
            "__________________________________________________________________________________________________\n",
            "dense_4 (Dense)                 (None, 72)           27720       dropout_2[0][0]                  \n",
            "__________________________________________________________________________________________________\n",
            "dense_5 (Dense)                 (None, 47)           3431        dense_4[0][0]                    \n",
            "==================================================================================================\n",
            "Total params: 1,128,423\n",
            "Trainable params: 1,128,423\n",
            "Non-trainable params: 0\n",
            "__________________________________________________________________________________________________\n",
            "Epoch 1/3\n",
            "56/56 [==============================] - 167s 3s/step - loss: 2.7147 - acc: 0.3449\n",
            "Epoch 2/3\n",
            "56/56 [==============================] - 166s 3s/step - loss: 2.0157 - acc: 0.5048\n",
            "Epoch 3/3\n",
            "56/56 [==============================] - 163s 3s/step - loss: 1.8011 - acc: 0.5330\n",
            "__________________________________________________________________________________________________\n",
            "Layer (type)                    Output Shape         Param #     Connected to                     \n",
            "==================================================================================================\n",
            "input_4 (InputLayer)            (None, 450)          0                                            \n",
            "__________________________________________________________________________________________________\n",
            "embedding_4 (Embedding)         (None, 450, 100)     959800      input_4[0][0]                    \n",
            "__________________________________________________________________________________________________\n",
            "spatial_dropout1d_2 (SpatialDro (None, 450, 100)     0           embedding_4[0][0]                \n",
            "__________________________________________________________________________________________________\n",
            "conv1d_2 (Conv1D)               (None, 450, 180)     18180       spatial_dropout1d_2[0][0]        \n",
            "__________________________________________________________________________________________________\n",
            "conv1d_3 (Conv1D)               (None, 449, 180)     36180       spatial_dropout1d_2[0][0]        \n",
            "__________________________________________________________________________________________________\n",
            "conv1d_4 (Conv1D)               (None, 448, 180)     54180       spatial_dropout1d_2[0][0]        \n",
            "__________________________________________________________________________________________________\n",
            "conv1d_5 (Conv1D)               (None, 447, 180)     72180       spatial_dropout1d_2[0][0]        \n",
            "__________________________________________________________________________________________________\n",
            "k_max_pooling_1 (KMaxPooling)   (None, 3, 180)       0           conv1d_2[0][0]                   \n",
            "__________________________________________________________________________________________________\n",
            "k_max_pooling_2 (KMaxPooling)   (None, 3, 180)       0           conv1d_3[0][0]                   \n",
            "__________________________________________________________________________________________________\n",
            "k_max_pooling_3 (KMaxPooling)   (None, 3, 180)       0           conv1d_4[0][0]                   \n",
            "__________________________________________________________________________________________________\n",
            "k_max_pooling_4 (KMaxPooling)   (None, 3, 180)       0           conv1d_5[0][0]                   \n",
            "__________________________________________________________________________________________________\n",
            "flatten_1 (Flatten)             (None, 540)          0           k_max_pooling_1[0][0]            \n",
            "__________________________________________________________________________________________________\n",
            "flatten_2 (Flatten)             (None, 540)          0           k_max_pooling_2[0][0]            \n",
            "__________________________________________________________________________________________________\n",
            "flatten_3 (Flatten)             (None, 540)          0           k_max_pooling_3[0][0]            \n",
            "__________________________________________________________________________________________________\n",
            "flatten_4 (Flatten)             (None, 540)          0           k_max_pooling_4[0][0]            \n",
            "__________________________________________________________________________________________________\n",
            "concatenate_2 (Concatenate)     (None, 2160)         0           flatten_1[0][0]                  \n",
            "                                                                 flatten_2[0][0]                  \n",
            "                                                                 flatten_3[0][0]                  \n",
            "                                                                 flatten_4[0][0]                  \n",
            "__________________________________________________________________________________________________\n",
            "dropout_3 (Dropout)             (None, 2160)         0           concatenate_2[0][0]              \n",
            "__________________________________________________________________________________________________\n",
            "dense_6 (Dense)                 (None, 144)          311184      dropout_3[0][0]                  \n",
            "__________________________________________________________________________________________________\n",
            "dense_7 (Dense)                 (None, 47)           6815        dense_6[0][0]                    \n",
            "==================================================================================================\n",
            "Total params: 1,458,519\n",
            "Trainable params: 1,458,519\n",
            "Non-trainable params: 0\n",
            "__________________________________________________________________________________________________\n",
            "Epoch 1/3\n",
            "56/56 [==============================] - 9s 154ms/step - loss: 2.3552 - acc: 0.4152\n",
            "Epoch 2/3\n",
            "56/56 [==============================] - 6s 105ms/step - loss: 1.8053 - acc: 0.5349\n",
            "Epoch 3/3\n",
            "56/56 [==============================] - 6s 105ms/step - loss: 1.5276 - acc: 0.6510\n"
          ],
          "name": "stdout"
        }
      ]
    },
    {
      "cell_type": "code",
      "metadata": {
        "id": "Q5S8FJnwljrC",
        "colab_type": "code",
        "outputId": "bfecf183-f680-496b-a6c9-517bcd39eb93",
        "colab": {
          "base_uri": "https://localhost:8080/",
          "height": 532
        }
      },
      "source": [
        "#CNN model from Kashgari\n",
        "classifier = CNNModel()\n",
        "\n",
        "#Predicting from pre-ensemble models   \n",
        "val_predictions = prediction(models, X_val)\n",
        "\n",
        "#Reshape to 2D array     \n",
        "X_predict =  val_predictions.reshape(val_predictions.shape[0], val_predictions.shape[1]*val_predictions.shape[2])\n",
        "\n",
        "#Round probabilities to two digits\n",
        "X_predict = np.around(X_predict, 2)\n",
        "\n",
        "#Structure predictions to Kashgari input format\n",
        "X_predict = [[str(j) for j in i ]for i in X_predict ]\n",
        "\n",
        "#Fit predicted probabilities as the input to the model\n",
        "classifier.fit(X_predict, y_val, epochs=5)\n",
        "\n",
        "#Predict on final model\n",
        "ensemble_pr = classifier.predict(X_predict)\n",
        "\n",
        "#print(confusion_matrix(y_val, ensemble_pr))\n"
      ],
      "execution_count": 0,
      "outputs": [
        {
          "output_type": "stream",
          "text": [
            "_________________________________________________________________\n",
            "Layer (type)                 Output Shape              Param #   \n",
            "=================================================================\n",
            "input_7 (InputLayer)         (None, 188)               0         \n",
            "_________________________________________________________________\n",
            "embedding_7 (Embedding)      (None, 188, 100)          10500     \n",
            "_________________________________________________________________\n",
            "conv1d_8 (Conv1D)            (None, 184, 128)          64128     \n",
            "_________________________________________________________________\n",
            "global_max_pooling1d_5 (Glob (None, 128)               0         \n",
            "_________________________________________________________________\n",
            "dense_12 (Dense)             (None, 64)                8256      \n",
            "_________________________________________________________________\n",
            "dense_13 (Dense)             (None, 47)                3055      \n",
            "=================================================================\n",
            "Total params: 85,939\n",
            "Trainable params: 85,939\n",
            "Non-trainable params: 0\n",
            "_________________________________________________________________\n",
            "Epoch 1/5\n",
            "84/84 [==============================] - 3s 40ms/step - loss: 2.4582 - acc: 0.3821\n",
            "Epoch 2/5\n",
            "84/84 [==============================] - 2s 18ms/step - loss: 1.7561 - acc: 0.5167\n",
            "Epoch 3/5\n",
            "84/84 [==============================] - 1s 18ms/step - loss: 1.6550 - acc: 0.5715\n",
            "Epoch 4/5\n",
            "84/84 [==============================] - 2s 18ms/step - loss: 1.5540 - acc: 0.6224\n",
            "Epoch 5/5\n",
            "84/84 [==============================] - 1s 17ms/step - loss: 1.4798 - acc: 0.6455\n"
          ],
          "name": "stdout"
        }
      ]
    },
    {
      "cell_type": "code",
      "metadata": {
        "id": "z6quFp-7Bflv",
        "colab_type": "code",
        "outputId": "98349aa1-121c-46ad-ba75-7c43ab5b01e3",
        "colab": {
          "base_uri": "https://localhost:8080/",
          "height": 3839
        }
      },
      "source": [
        "#Predicting from pre-ensemble models\n",
        "test_predictions = prediction(models, X_test)\n",
        "    \n",
        "#Reshape to 2D    \n",
        "X_predict =  test_predictions.reshape(test_predictions.shape[0], test_predictions.shape[1]*test_predictions.shape[2])\n",
        "\n",
        "#Round probabilities to two digits\n",
        "X_predict = np.around(X_predict, 2)\n",
        "\n",
        "#Predict on final model\n",
        "X_predict = [[str(j) for j in i ]for i in X_predict ]\n",
        "\n",
        "#Final accuracy\n",
        "print(\"Ensemble accuracy:\")\n",
        "print(accuracy_score(classifier.predict(X_predict), y_test))"
      ],
      "execution_count": 0,
      "outputs": [
        {
          "output_type": "stream",
          "text": [
            "/usr/local/lib/python3.6/dist-packages/sklearn/metrics/classification.py:1437: UndefinedMetricWarning: Precision and F-score are ill-defined and being set to 0.0 in labels with no predicted samples.\n",
            "  'precision', 'predicted', average, warn_for)\n"
          ],
          "name": "stderr"
        },
        {
          "output_type": "stream",
          "text": [
            "              precision    recall  f1-score   support\n",
            "\n",
            "           0     0.0000    0.0000    0.0000        12\n",
            "           1     0.3447    0.6762    0.4566       105\n",
            "          10     0.0000    0.0000    0.0000        30\n",
            "          11     0.5625    0.3253    0.4122        83\n",
            "          12     0.0000    0.0000    0.0000        13\n",
            "          13     0.0000    0.0000    0.0000        37\n",
            "          14     0.0000    0.0000    0.0000         2\n",
            "          15     0.0000    0.0000    0.0000         9\n",
            "          16     0.4780    0.7677    0.5891        99\n",
            "          17     0.0000    0.0000    0.0000        12\n",
            "          18     0.0000    0.0000    0.0000        20\n",
            "          19     0.3353    0.8346    0.4784       133\n",
            "           2     0.0000    0.0000    0.0000        20\n",
            "          20     0.0000    0.0000    0.0000        70\n",
            "          21     0.0000    0.0000    0.0000        27\n",
            "          22     0.0000    0.0000    0.0000         7\n",
            "          23     0.0000    0.0000    0.0000        12\n",
            "          24     0.0000    0.0000    0.0000        19\n",
            "          25     0.0000    0.0000    0.0000        31\n",
            "          26     0.0000    0.0000    0.0000         8\n",
            "          27     0.0000    0.0000    0.0000         4\n",
            "          28     0.0000    0.0000    0.0000        10\n",
            "          29     0.0000    0.0000    0.0000         4\n",
            "           3     0.8568    0.9569    0.9041       813\n",
            "          30     0.0000    0.0000    0.0000        12\n",
            "          31     0.0000    0.0000    0.0000        13\n",
            "          32     0.0000    0.0000    0.0000        10\n",
            "          33     0.0000    0.0000    0.0000         5\n",
            "          34     0.0000    0.0000    0.0000         7\n",
            "          35     0.0000    0.0000    0.0000         6\n",
            "          36     0.0000    0.0000    0.0000        11\n",
            "          37     0.0000    0.0000    0.0000         2\n",
            "          38     0.0000    0.0000    0.0000         3\n",
            "          39     0.0000    0.0000    0.0000         5\n",
            "           4     0.7104    0.8903    0.7903       474\n",
            "          40     0.0000    0.0000    0.0000        10\n",
            "          41     0.0000    0.0000    0.0000         8\n",
            "          42     0.0000    0.0000    0.0000         3\n",
            "          43     0.0000    0.0000    0.0000         6\n",
            "          44     0.0000    0.0000    0.0000         5\n",
            "          45     0.0000    0.0000    0.0000         1\n",
            "           5     0.0000    0.0000    0.0000         5\n",
            "           6     0.0000    0.0000    0.0000        14\n",
            "           7     0.0000    0.0000    0.0000         3\n",
            "           8     0.0000    0.0000    0.0000        38\n",
            "           9     0.0000    0.0000    0.0000        25\n",
            "\n",
            "    accuracy                         0.6612      2246\n",
            "   macro avg     0.0715    0.0968    0.0789      2246\n",
            "weighted avg     0.5379    0.6612    0.5849      2246\n",
            "\n",
            "              precision    recall  f1-score   support\n",
            "\n",
            "           0     0.0000    0.0000    0.0000        12\n",
            "           1     0.2076    0.5714    0.3046       105\n",
            "          10     0.0000    0.0000    0.0000        30\n",
            "          11     0.2000    0.0361    0.0612        83\n",
            "          12     0.0000    0.0000    0.0000        13\n",
            "          13     0.0000    0.0000    0.0000        37\n",
            "          14     0.0000    0.0000    0.0000         2\n",
            "          15     0.0000    0.0000    0.0000         9\n",
            "          16     0.1696    0.4848    0.2513        99\n",
            "          17     0.0000    0.0000    0.0000        12\n",
            "          18     0.0000    0.0000    0.0000        20\n",
            "          19     0.4279    0.6466    0.5150       133\n",
            "           2     0.0000    0.0000    0.0000        20\n",
            "          20     0.0000    0.0000    0.0000        70\n",
            "          21     0.0000    0.0000    0.0000        27\n",
            "          22     0.0000    0.0000    0.0000         7\n",
            "          23     0.0000    0.0000    0.0000        12\n",
            "          24     0.0000    0.0000    0.0000        19\n",
            "          25     0.0000    0.0000    0.0000        31\n",
            "          26     0.0000    0.0000    0.0000         8\n",
            "          27     0.0000    0.0000    0.0000         4\n",
            "          28     0.0000    0.0000    0.0000        10\n",
            "          29     0.0000    0.0000    0.0000         4\n",
            "           3     0.8148    0.9471    0.8760       813\n",
            "          30     0.0000    0.0000    0.0000        12\n",
            "          31     0.0000    0.0000    0.0000        13\n",
            "          32     0.0000    0.0000    0.0000        10\n",
            "          33     0.0000    0.0000    0.0000         5\n",
            "          34     0.0000    0.0000    0.0000         7\n",
            "          35     0.0000    0.0000    0.0000         6\n",
            "          36     0.0000    0.0000    0.0000        11\n",
            "          37     0.0000    0.0000    0.0000         2\n",
            "          38     0.0000    0.0000    0.0000         3\n",
            "          39     0.0000    0.0000    0.0000         5\n",
            "           4     0.7973    0.8629    0.8288       474\n",
            "          40     0.0000    0.0000    0.0000        10\n",
            "          41     0.0000    0.0000    0.0000         8\n",
            "          42     0.0000    0.0000    0.0000         3\n",
            "          43     0.0000    0.0000    0.0000         6\n",
            "          44     0.0000    0.0000    0.0000         5\n",
            "          45     0.0000    0.0000    0.0000         1\n",
            "           5     0.0000    0.0000    0.0000         5\n",
            "           6     0.0000    0.0000    0.0000        14\n",
            "           7     0.0000    0.0000    0.0000         3\n",
            "           8     0.0000    0.0000    0.0000        38\n",
            "           9     0.0000    0.0000    0.0000        25\n",
            "\n",
            "    accuracy                         0.6126      2246\n",
            "   macro avg     0.0569    0.0772    0.0617      2246\n",
            "weighted avg     0.5131    0.6126    0.5501      2246\n",
            "\n",
            "              precision    recall  f1-score   support\n",
            "\n",
            "           0     0.0000    0.0000    0.0000        12\n",
            "           1     0.0000    0.0000    0.0000       105\n",
            "          10     0.0000    0.0000    0.0000        30\n",
            "          11     0.2222    0.0723    0.1091        83\n",
            "          12     0.0000    0.0000    0.0000        13\n",
            "          13     0.0000    0.0000    0.0000        37\n",
            "          14     0.0000    0.0000    0.0000         2\n",
            "          15     0.0000    0.0000    0.0000         9\n",
            "          16     0.0000    0.0000    0.0000        99\n",
            "          17     0.0000    0.0000    0.0000        12\n",
            "          18     0.0000    0.0000    0.0000        20\n",
            "          19     0.1445    0.2857    0.1919       133\n",
            "           2     0.0000    0.0000    0.0000        20\n",
            "          20     0.0000    0.0000    0.0000        70\n",
            "          21     0.0000    0.0000    0.0000        27\n",
            "          22     0.0000    0.0000    0.0000         7\n",
            "          23     0.0000    0.0000    0.0000        12\n",
            "          24     0.0000    0.0000    0.0000        19\n",
            "          25     0.0000    0.0000    0.0000        31\n",
            "          26     0.0000    0.0000    0.0000         8\n",
            "          27     0.0000    0.0000    0.0000         4\n",
            "          28     0.0000    0.0000    0.0000        10\n",
            "          29     0.0000    0.0000    0.0000         4\n",
            "           3     0.6311    0.9533    0.7594       813\n",
            "          30     0.0000    0.0000    0.0000        12\n",
            "          31     0.0000    0.0000    0.0000        13\n",
            "          32     0.0000    0.0000    0.0000        10\n",
            "          33     0.0000    0.0000    0.0000         5\n",
            "          34     0.0000    0.0000    0.0000         7\n",
            "          35     0.0000    0.0000    0.0000         6\n",
            "          36     0.0000    0.0000    0.0000        11\n",
            "          37     0.0000    0.0000    0.0000         2\n",
            "          38     0.0000    0.0000    0.0000         3\n",
            "          39     0.0000    0.0000    0.0000         5\n",
            "           4     0.5769    0.8861    0.6988       474\n",
            "          40     0.0000    0.0000    0.0000        10\n",
            "          41     0.0000    0.0000    0.0000         8\n",
            "          42     0.0000    0.0000    0.0000         3\n",
            "          43     0.0000    0.0000    0.0000         6\n",
            "          44     0.0000    0.0000    0.0000         5\n",
            "          45     0.0000    0.0000    0.0000         1\n",
            "           5     0.0000    0.0000    0.0000         5\n",
            "           6     0.0000    0.0000    0.0000        14\n",
            "           7     0.0000    0.0000    0.0000         3\n",
            "           8     0.0000    0.0000    0.0000        38\n",
            "           9     0.0000    0.0000    0.0000        25\n",
            "\n",
            "    accuracy                         0.5516      2246\n",
            "   macro avg     0.0342    0.0478    0.0382      2246\n",
            "weighted avg     0.3670    0.5516    0.4378      2246\n",
            "\n",
            "              precision    recall  f1-score   support\n",
            "\n",
            "           0     0.0000    0.0000    0.0000        12\n",
            "           1     0.7978    0.6762    0.7320       105\n",
            "          10     0.0000    0.0000    0.0000        30\n",
            "          11     0.4488    0.6867    0.5429        83\n",
            "          12     0.0000    0.0000    0.0000        13\n",
            "          13     0.0000    0.0000    0.0000        37\n",
            "          14     0.0000    0.0000    0.0000         2\n",
            "          15     0.0000    0.0000    0.0000         9\n",
            "          16     0.5455    0.6061    0.5742        99\n",
            "          17     0.0000    0.0000    0.0000        12\n",
            "          18     0.0000    0.0000    0.0000        20\n",
            "          19     0.2805    0.8647    0.4236       133\n",
            "           2     0.0000    0.0000    0.0000        20\n",
            "          20     0.0000    0.0000    0.0000        70\n",
            "          21     0.0000    0.0000    0.0000        27\n",
            "          22     0.0000    0.0000    0.0000         7\n",
            "          23     0.0000    0.0000    0.0000        12\n",
            "          24     0.0000    0.0000    0.0000        19\n",
            "          25     0.0000    0.0000    0.0000        31\n",
            "          26     0.0000    0.0000    0.0000         8\n",
            "          27     0.0000    0.0000    0.0000         4\n",
            "          28     0.0000    0.0000    0.0000        10\n",
            "          29     0.0000    0.0000    0.0000         4\n",
            "           3     0.7969    0.9606    0.8712       813\n",
            "          30     0.0000    0.0000    0.0000        12\n",
            "          31     0.0000    0.0000    0.0000        13\n",
            "          32     0.0000    0.0000    0.0000        10\n",
            "          33     0.0000    0.0000    0.0000         5\n",
            "          34     0.0000    0.0000    0.0000         7\n",
            "          35     0.0000    0.0000    0.0000         6\n",
            "          36     0.0000    0.0000    0.0000        11\n",
            "          37     0.0000    0.0000    0.0000         2\n",
            "          38     0.0000    0.0000    0.0000         3\n",
            "          39     0.0000    0.0000    0.0000         5\n",
            "           4     0.7623    0.8523    0.8048       474\n",
            "          40     0.0000    0.0000    0.0000        10\n",
            "          41     0.0000    0.0000    0.0000         8\n",
            "          42     0.0000    0.0000    0.0000         3\n",
            "          43     0.0000    0.0000    0.0000         6\n",
            "          44     0.0000    0.0000    0.0000         5\n",
            "          45     0.0000    0.0000    0.0000         1\n",
            "           5     0.0000    0.0000    0.0000         5\n",
            "           6     0.0000    0.0000    0.0000        14\n",
            "           7     0.0000    0.0000    0.0000         3\n",
            "           8     0.0000    0.0000    0.0000        38\n",
            "           9     0.0000    0.0000    0.0000        25\n",
            "\n",
            "    accuracy                         0.6625      2246\n",
            "   macro avg     0.0790    0.1010    0.0858      2246\n",
            "weighted avg     0.5439    0.6625    0.5899      2246\n",
            "\n"
          ],
          "name": "stdout"
        },
        {
          "output_type": "execute_result",
          "data": {
            "text/plain": [
              "0.6366874443455031"
            ]
          },
          "metadata": {
            "tags": []
          },
          "execution_count": 14
        }
      ]
    }
  ]
}