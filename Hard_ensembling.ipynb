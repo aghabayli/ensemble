{
  "nbformat": 4,
  "nbformat_minor": 0,
  "metadata": {
    "colab": {
      "name": "Hard_ensembling.ipynb",
      "version": "0.3.2",
      "provenance": [],
      "collapsed_sections": [],
      "include_colab_link": true
    },
    "kernelspec": {
      "name": "python3",
      "display_name": "Python 3"
    },
    "accelerator": "GPU"
  },
  "cells": [
    {
      "cell_type": "markdown",
      "metadata": {
        "id": "view-in-github",
        "colab_type": "text"
      },
      "source": [
        "<a href=\"https://colab.research.google.com/github/aghabayli/ensemble/blob/master/Hard_ensembling.ipynb\" target=\"_parent\"><img src=\"https://colab.research.google.com/assets/colab-badge.svg\" alt=\"Open In Colab\"/></a>"
      ]
    },
    {
      "cell_type": "code",
      "metadata": {
        "id": "veyD-L8KcdzZ",
        "colab_type": "code",
        "outputId": "e527c649-5895-49c9-a3bb-85909056ef3d",
        "colab": {
          "base_uri": "https://localhost:8080/",
          "height": 35
        }
      },
      "source": [
        "#Connect to GPU\n",
        "import tensorflow as tf\n",
        "tf.test.gpu_device_name()"
      ],
      "execution_count": 1,
      "outputs": [
        {
          "output_type": "execute_result",
          "data": {
            "text/plain": [
              "'/device:GPU:0'"
            ]
          },
          "metadata": {
            "tags": []
          },
          "execution_count": 1
        }
      ]
    },
    {
      "cell_type": "code",
      "metadata": {
        "id": "0QNZR0hbckJ0",
        "colab_type": "code",
        "colab": {}
      },
      "source": [
        "#Connect to the google drive\n",
        "from google.colab import drive\n",
        "drive.mount('/content/gdrive')"
      ],
      "execution_count": 0,
      "outputs": []
    },
    {
      "cell_type": "code",
      "metadata": {
        "id": "qVuWE4O_exb3",
        "colab_type": "code",
        "colab": {}
      },
      "source": [
        "#Install dependencies\n",
        "\n",
        "#!apt-get install python3-venv\n",
        "#!python3 -m venv myenv/env_ensemble\n",
        "#!source myenv/env_ensemble/bin/activate\n",
        "!pip uninstall numpy==1.16.3\n",
        "!pip install numpy==1.16.1\n",
        "#!pip uninstall kashgari\n",
        "!pip install /content/gdrive/My\\ Drive/Kashgari/"
      ],
      "execution_count": 0,
      "outputs": []
    },
    {
      "cell_type": "markdown",
      "metadata": {
        "id": "yUb5Gfgk-UxS",
        "colab_type": "text"
      },
      "source": [
        "# Data"
      ]
    },
    {
      "cell_type": "code",
      "metadata": {
        "id": "ZVMh8a6kkDlx",
        "colab_type": "code",
        "outputId": "8c036c32-7067-4700-e7ef-e399336e319d",
        "colab": {
          "base_uri": "https://localhost:8080/",
          "height": 35
        }
      },
      "source": [
        "#Import libraries\n",
        "from keras.datasets import reuters\n",
        "import numpy as np\n",
        "from sklearn.model_selection import train_test_split\n",
        "\n",
        "#Download the Reuters data set from Keras\n",
        "(X_data, y_data), (X_test, y_test)  = reuters.load_data(path=\"../reuters.npz\", num_words=None,skip_top=0,maxlen=None,test_split=0.2,seed=113,start_char=1,oov_char=2,index_from=3)\n",
        "\n",
        "#Split validation data\n",
        "X_train, X_val, y_train, y_val = train_test_split(X_data, y_data, test_size=0.60, random_state=113)"
      ],
      "execution_count": 2,
      "outputs": [
        {
          "output_type": "stream",
          "text": [
            "Using TensorFlow backend.\n"
          ],
          "name": "stderr"
        }
      ]
    },
    {
      "cell_type": "code",
      "metadata": {
        "id": "1BG1YvzMr57e",
        "colab_type": "code",
        "outputId": "1f278dac-03fb-4ec1-a995-c45d989d70ee",
        "colab": {
          "base_uri": "https://localhost:8080/",
          "height": 72
        }
      },
      "source": [
        "#Print example of input data\n",
        "print(X_train[0])\n",
        "print(y_train[0])\n"
      ],
      "execution_count": 3,
      "outputs": [
        {
          "output_type": "stream",
          "text": [
            "[1, 37, 412, 961, 202, 10, 146, 1315, 878, 466, 750, 445, 7, 91, 6, 10, 135, 32, 767, 11, 58, 83, 59, 20, 5, 4, 2023, 4, 1427, 213, 8, 7, 93, 878, 466, 961, 202, 27, 42, 8207, 553, 360, 639, 6, 12, 1477, 11, 58, 83, 72, 20, 16, 8, 4, 1832, 4203, 135, 7, 91, 348, 5739, 10745, 11480, 202, 10, 146, 2442, 18, 6, 32, 818, 11, 58, 83, 63, 20, 22, 6906, 12, 160, 11, 160, 32, 20, 91, 34, 4, 8454, 4494, 433, 22, 10, 2580, 54, 1489, 5, 160, 59, 20, 4, 1427, 213, 8, 961, 40, 1909, 6, 136, 109, 11, 13, 4, 99, 216, 7, 117, 109, 206, 4, 91, 302, 5, 750, 18, 34, 4, 473, 499, 224, 4045, 62, 99, 2344, 7, 10950, 1427, 262, 7221, 11801, 8, 137, 2554, 57, 994, 488, 305, 2260, 7, 295, 277, 961, 281, 4, 585, 29, 36, 152, 4, 54, 216, 4, 466, 135, 5, 4046, 34, 420, 109, 11, 34, 429, 1049, 184, 4, 1832, 135, 34, 54, 420, 52, 320, 7, 252, 1600, 17, 12]\n",
            "30\n"
          ],
          "name": "stdout"
        }
      ]
    },
    {
      "cell_type": "code",
      "metadata": {
        "id": "kvHGG--rkLm3",
        "colab_type": "code",
        "colab": {}
      },
      "source": [
        "#Constructing data to available input format at Kashgari\n",
        "X_train = [[str(j) for j in i ]for i in X_train ]\n",
        "y_train = [ str(i) for i in y_train ]\n",
        "\n",
        "X_val = [[str(j) for j in i ]for i in X_val ]\n",
        "y_val = [ str(i) for i in y_val ]\n",
        "\n",
        "X_test = [[str(j) for j in i ]for i in X_test ]\n",
        "y_test = [ str(i) for i in y_test ]"
      ],
      "execution_count": 0,
      "outputs": []
    },
    {
      "cell_type": "code",
      "metadata": {
        "id": "Gii8iZZRtlmj",
        "colab_type": "code",
        "outputId": "169c2b00-6e14-4db9-d1b5-d2a5ef253df0",
        "colab": {
          "base_uri": "https://localhost:8080/",
          "height": 72
        }
      },
      "source": [
        "#Print example after constructing\n",
        "print(X_train[0])\n",
        "y_train[0]"
      ],
      "execution_count": 5,
      "outputs": [
        {
          "output_type": "stream",
          "text": [
            "['1', '37', '412', '961', '202', '10', '146', '1315', '878', '466', '750', '445', '7', '91', '6', '10', '135', '32', '767', '11', '58', '83', '59', '20', '5', '4', '2023', '4', '1427', '213', '8', '7', '93', '878', '466', '961', '202', '27', '42', '8207', '553', '360', '639', '6', '12', '1477', '11', '58', '83', '72', '20', '16', '8', '4', '1832', '4203', '135', '7', '91', '348', '5739', '10745', '11480', '202', '10', '146', '2442', '18', '6', '32', '818', '11', '58', '83', '63', '20', '22', '6906', '12', '160', '11', '160', '32', '20', '91', '34', '4', '8454', '4494', '433', '22', '10', '2580', '54', '1489', '5', '160', '59', '20', '4', '1427', '213', '8', '961', '40', '1909', '6', '136', '109', '11', '13', '4', '99', '216', '7', '117', '109', '206', '4', '91', '302', '5', '750', '18', '34', '4', '473', '499', '224', '4045', '62', '99', '2344', '7', '10950', '1427', '262', '7221', '11801', '8', '137', '2554', '57', '994', '488', '305', '2260', '7', '295', '277', '961', '281', '4', '585', '29', '36', '152', '4', '54', '216', '4', '466', '135', '5', '4046', '34', '420', '109', '11', '34', '429', '1049', '184', '4', '1832', '135', '34', '54', '420', '52', '320', '7', '252', '1600', '17', '12']\n"
          ],
          "name": "stdout"
        },
        {
          "output_type": "execute_result",
          "data": {
            "text/plain": [
              "'30'"
            ]
          },
          "metadata": {
            "tags": []
          },
          "execution_count": 5
        }
      ]
    },
    {
      "cell_type": "markdown",
      "metadata": {
        "id": "yHwJQyZt-BRF",
        "colab_type": "text"
      },
      "source": [
        "# Training"
      ]
    },
    {
      "cell_type": "code",
      "metadata": {
        "id": "aTjKC8vEz0AP",
        "colab_type": "code",
        "colab": {}
      },
      "source": [
        "#Import libraries to train\n",
        "from kashgari.tasks.classification import CNNModel\n",
        "from sklearn.metrics import accuracy_score, confusion_matrix\n",
        "from numpy import dstack"
      ],
      "execution_count": 0,
      "outputs": []
    },
    {
      "cell_type": "code",
      "metadata": {
        "id": "_nrDB_zZZnKD",
        "colab_type": "code",
        "colab": {}
      },
      "source": [
        "def prediction(models, X_data, y_data = None):\n",
        "\n",
        "  predictions = list()\n",
        "\n",
        "  #Predict for each individual model\n",
        "  for model in models:\n",
        "    #Soft classification prediction\n",
        "    pr = model.predict(X_data)\n",
        "    \n",
        "    #model.evaluate(X_data, y_data)\n",
        "    \n",
        "    #Stacking\n",
        "    predictions.append(pr)\n",
        "    \n",
        "  #Transform to feed as a input  \n",
        "  predictions =  np.array(predictions).T\n",
        "    \n",
        "  return predictions"
      ],
      "execution_count": 0,
      "outputs": []
    },
    {
      "cell_type": "code",
      "metadata": {
        "id": "o5Tv-PVUZnTH",
        "colab_type": "code",
        "outputId": "28f3b762-d58c-434b-bd0f-5e6fc48e38cd",
        "colab": {
          "base_uri": "https://localhost:8080/",
          "height": 2239
        }
      },
      "source": [
        "predictions = list()\n",
        "#Create a list to pre-ensem ble models\n",
        "models = list()\n",
        "\n",
        "#Number of indivsual models\n",
        "n=5\n",
        "\n",
        "#Train n individual models\n",
        "for i in range(n):\n",
        "    # CNN Model\n",
        "    classifier = CNNModel()\n",
        "    #Fit train data\n",
        "    classifier.fit(X_train,y_train, multi_label=True, epochs = 3)\n",
        "    #Append to list trained classifier\n",
        "    models.append(classifier)\n",
        "    #Predict soft classification on train data\n",
        "    predicted = classifier.predict(X_train)\n",
        "    #Stack all predictions \n",
        "    predictions.append(predicted)"
      ],
      "execution_count": 11,
      "outputs": [
        {
          "output_type": "stream",
          "text": [
            "_________________________________________________________________\n",
            "Layer (type)                 Output Shape              Param #   \n",
            "=================================================================\n",
            "input_6 (InputLayer)         (None, 450)               0         \n",
            "_________________________________________________________________\n",
            "embedding_6 (Embedding)      (None, 450, 100)          959800    \n",
            "_________________________________________________________________\n",
            "conv1d_6 (Conv1D)            (None, 446, 128)          64128     \n",
            "_________________________________________________________________\n",
            "global_max_pooling1d_6 (Glob (None, 128)               0         \n",
            "_________________________________________________________________\n",
            "dense_11 (Dense)             (None, 64)                8256      \n",
            "_________________________________________________________________\n",
            "dense_12 (Dense)             (None, 47)                3055      \n",
            "=================================================================\n",
            "Total params: 1,035,239\n",
            "Trainable params: 1,035,239\n",
            "Non-trainable params: 0\n",
            "_________________________________________________________________\n",
            "Epoch 1/3\n",
            "56/56 [==============================] - 1s 25ms/step - loss: 2.7985 - acc: 0.3652\n",
            "Epoch 2/3\n",
            "56/56 [==============================] - 1s 11ms/step - loss: 1.8822 - acc: 0.5209\n",
            "Epoch 3/3\n",
            "56/56 [==============================] - 1s 12ms/step - loss: 1.5610 - acc: 0.6340\n",
            "_________________________________________________________________\n",
            "Layer (type)                 Output Shape              Param #   \n",
            "=================================================================\n",
            "input_7 (InputLayer)         (None, 450)               0         \n",
            "_________________________________________________________________\n",
            "embedding_7 (Embedding)      (None, 450, 100)          959800    \n",
            "_________________________________________________________________\n",
            "conv1d_7 (Conv1D)            (None, 446, 128)          64128     \n",
            "_________________________________________________________________\n",
            "global_max_pooling1d_7 (Glob (None, 128)               0         \n",
            "_________________________________________________________________\n",
            "dense_13 (Dense)             (None, 64)                8256      \n",
            "_________________________________________________________________\n",
            "dense_14 (Dense)             (None, 47)                3055      \n",
            "=================================================================\n",
            "Total params: 1,035,239\n",
            "Trainable params: 1,035,239\n",
            "Non-trainable params: 0\n",
            "_________________________________________________________________\n",
            "Epoch 1/3\n",
            "56/56 [==============================] - 1s 24ms/step - loss: 2.8464 - acc: 0.3566\n",
            "Epoch 2/3\n",
            "56/56 [==============================] - 1s 11ms/step - loss: 1.8302 - acc: 0.5355\n",
            "Epoch 3/3\n",
            "56/56 [==============================] - 1s 11ms/step - loss: 1.5321 - acc: 0.6395\n",
            "_________________________________________________________________\n",
            "Layer (type)                 Output Shape              Param #   \n",
            "=================================================================\n",
            "input_8 (InputLayer)         (None, 450)               0         \n",
            "_________________________________________________________________\n",
            "embedding_8 (Embedding)      (None, 450, 100)          959800    \n",
            "_________________________________________________________________\n",
            "conv1d_8 (Conv1D)            (None, 446, 128)          64128     \n",
            "_________________________________________________________________\n",
            "global_max_pooling1d_8 (Glob (None, 128)               0         \n",
            "_________________________________________________________________\n",
            "dense_15 (Dense)             (None, 64)                8256      \n",
            "_________________________________________________________________\n",
            "dense_16 (Dense)             (None, 47)                3055      \n",
            "=================================================================\n",
            "Total params: 1,035,239\n",
            "Trainable params: 1,035,239\n",
            "Non-trainable params: 0\n",
            "_________________________________________________________________\n",
            "Epoch 1/3\n",
            "56/56 [==============================] - 1s 25ms/step - loss: 2.8046 - acc: 0.3984\n",
            "Epoch 2/3\n",
            "56/56 [==============================] - 1s 12ms/step - loss: 1.8558 - acc: 0.5288\n",
            "Epoch 3/3\n",
            "56/56 [==============================] - 1s 11ms/step - loss: 1.5203 - acc: 0.6426\n",
            "_________________________________________________________________\n",
            "Layer (type)                 Output Shape              Param #   \n",
            "=================================================================\n",
            "input_9 (InputLayer)         (None, 450)               0         \n",
            "_________________________________________________________________\n",
            "embedding_9 (Embedding)      (None, 450, 100)          959800    \n",
            "_________________________________________________________________\n",
            "conv1d_9 (Conv1D)            (None, 446, 128)          64128     \n",
            "_________________________________________________________________\n",
            "global_max_pooling1d_9 (Glob (None, 128)               0         \n",
            "_________________________________________________________________\n",
            "dense_17 (Dense)             (None, 64)                8256      \n",
            "_________________________________________________________________\n",
            "dense_18 (Dense)             (None, 47)                3055      \n",
            "=================================================================\n",
            "Total params: 1,035,239\n",
            "Trainable params: 1,035,239\n",
            "Non-trainable params: 0\n",
            "_________________________________________________________________\n",
            "Epoch 1/3\n",
            "56/56 [==============================] - 1s 26ms/step - loss: 2.8015 - acc: 0.3613\n",
            "Epoch 2/3\n",
            "56/56 [==============================] - 1s 11ms/step - loss: 1.8864 - acc: 0.5128\n",
            "Epoch 3/3\n",
            "56/56 [==============================] - 1s 11ms/step - loss: 1.5867 - acc: 0.6002\n",
            "_________________________________________________________________\n",
            "Layer (type)                 Output Shape              Param #   \n",
            "=================================================================\n",
            "input_10 (InputLayer)        (None, 450)               0         \n",
            "_________________________________________________________________\n",
            "embedding_10 (Embedding)     (None, 450, 100)          959800    \n",
            "_________________________________________________________________\n",
            "conv1d_10 (Conv1D)           (None, 446, 128)          64128     \n",
            "_________________________________________________________________\n",
            "global_max_pooling1d_10 (Glo (None, 128)               0         \n",
            "_________________________________________________________________\n",
            "dense_19 (Dense)             (None, 64)                8256      \n",
            "_________________________________________________________________\n",
            "dense_20 (Dense)             (None, 47)                3055      \n",
            "=================================================================\n",
            "Total params: 1,035,239\n",
            "Trainable params: 1,035,239\n",
            "Non-trainable params: 0\n",
            "_________________________________________________________________\n",
            "Epoch 1/3\n",
            "56/56 [==============================] - 2s 27ms/step - loss: 2.7757 - acc: 0.3681\n",
            "Epoch 2/3\n",
            "56/56 [==============================] - 1s 11ms/step - loss: 1.8558 - acc: 0.5162\n",
            "Epoch 3/3\n",
            "56/56 [==============================] - 1s 11ms/step - loss: 1.5157 - acc: 0.6360\n"
          ],
          "name": "stdout"
        }
      ]
    },
    {
      "cell_type": "code",
      "metadata": {
        "id": "vY8XgZtmZnbi",
        "colab_type": "code",
        "colab": {}
      },
      "source": [
        ""
      ],
      "execution_count": 0,
      "outputs": []
    },
    {
      "cell_type": "markdown",
      "metadata": {
        "id": "Wjx2bQbwBynm",
        "colab_type": "text"
      },
      "source": [
        "### Predicting from indivdual models and training ensemble "
      ]
    },
    {
      "cell_type": "code",
      "metadata": {
        "id": "Q5S8FJnwljrC",
        "colab_type": "code",
        "outputId": "9beefd37-da3b-49a5-b6be-6d408913eccf",
        "colab": {
          "base_uri": "https://localhost:8080/",
          "height": 532
        }
      },
      "source": [
        "#CNN model from Kashgari\n",
        "classifier = CNNModel()\n",
        "\n",
        "#Predicting from pre-ensemble models   \n",
        "val_predictions = prediction(models, X_val)\n",
        "\n",
        "#Structure predictions to Kashgari input format\n",
        "X_predict = [[str(j) for j in i ]for i in val_predictions ]\n",
        "\n",
        "#Fit predicted probabilities as the input to the model\n",
        "classifier.fit(X_predict, y_val, epochs=5)\n",
        "\n",
        "#Predict on final model\n",
        "ensemble_pr = classifier.predict(X_predict)\n",
        "\n",
        "#print(confusion_matrix(y_val, ensemble_pr))"
      ],
      "execution_count": 24,
      "outputs": [
        {
          "output_type": "stream",
          "text": [
            "_________________________________________________________________\n",
            "Layer (type)                 Output Shape              Param #   \n",
            "=================================================================\n",
            "input_11 (InputLayer)        (None, 5)                 0         \n",
            "_________________________________________________________________\n",
            "embedding_11 (Embedding)     (None, 5, 100)            1100      \n",
            "_________________________________________________________________\n",
            "conv1d_11 (Conv1D)           (None, 1, 128)            64128     \n",
            "_________________________________________________________________\n",
            "global_max_pooling1d_11 (Glo (None, 128)               0         \n",
            "_________________________________________________________________\n",
            "dense_21 (Dense)             (None, 64)                8256      \n",
            "_________________________________________________________________\n",
            "dense_22 (Dense)             (None, 47)                3055      \n",
            "=================================================================\n",
            "Total params: 76,539\n",
            "Trainable params: 76,539\n",
            "Non-trainable params: 0\n",
            "_________________________________________________________________\n",
            "Epoch 1/5\n",
            "84/84 [==============================] - 1s 14ms/step - loss: 2.1546 - acc: 0.6060\n",
            "Epoch 2/5\n",
            "84/84 [==============================] - 0s 5ms/step - loss: 1.4528 - acc: 0.6845\n",
            "Epoch 3/5\n",
            "84/84 [==============================] - 0s 5ms/step - loss: 1.3906 - acc: 0.6922\n",
            "Epoch 4/5\n",
            "84/84 [==============================] - 0s 5ms/step - loss: 1.3554 - acc: 0.6985\n",
            "Epoch 5/5\n",
            "84/84 [==============================] - 0s 5ms/step - loss: 1.3547 - acc: 0.6952\n"
          ],
          "name": "stdout"
        }
      ]
    },
    {
      "cell_type": "markdown",
      "metadata": {
        "id": "eX8JJUKq638I",
        "colab_type": "text"
      },
      "source": [
        "### Classification of test data"
      ]
    },
    {
      "cell_type": "code",
      "metadata": {
        "id": "z6quFp-7Bflv",
        "colab_type": "code",
        "outputId": "742c3a6a-d7f6-4959-a83f-a5637c076196",
        "colab": {
          "base_uri": "https://localhost:8080/",
          "height": 52
        }
      },
      "source": [
        "#Predicting from pre-ensemble models\n",
        "test_predictions = prediction(models, X_test)\n",
        "    \n",
        "#Predict on final model\n",
        "X_predict = [[str(j) for j in i ]for i in test_predictions]\n",
        "\n",
        "#Final accuracy\n",
        "print(\"Ensemble accuracy:\")\n",
        "print(accuracy_score(classifier.predict(X_predict), y_test))"
      ],
      "execution_count": 25,
      "outputs": [
        {
          "output_type": "stream",
          "text": [
            "Ensemble accuracy:\n",
            "0.6869991095280499\n"
          ],
          "name": "stdout"
        }
      ]
    },
    {
      "cell_type": "markdown",
      "metadata": {
        "id": "1oLRT_Hn66W6",
        "colab_type": "text"
      },
      "source": [
        "# Treating Classification Outputs as Additional Features"
      ]
    },
    {
      "cell_type": "code",
      "metadata": {
        "id": "qprM5jaE68W4",
        "colab_type": "code",
        "outputId": "ed8751ab-9c98-4d40-f54e-90f2a56db469",
        "colab": {
          "base_uri": "https://localhost:8080/",
          "height": 461
        }
      },
      "source": [
        "#CNN model from Kashgari\n",
        "classifier = CNNModel()\n",
        "\n",
        "#Predicting from pre-ensemble models   \n",
        "val_predictions = prediction(models, X_val)\n",
        "\n",
        "#Concatinating probabilities from indivudal models with input data\n",
        "X_predict = [[str(j) for j in i ] + k for k,i in zip(X_val, val_predictions)]\n",
        "\n",
        "\n",
        "#Fit predicted probabilities as the input to the model\n",
        "classifier.fit(X_predict, y_val, epochs=3)\n",
        "\n",
        "#Predict on final model\n",
        "ensemble_pr = classifier.predict(X_predict)\n",
        "\n",
        "\n",
        "#classifier.evaluate(X_predict, y_val)\n",
        "#print(confusion_matrix(y_val, ensemble_pr))"
      ],
      "execution_count": 28,
      "outputs": [
        {
          "output_type": "stream",
          "text": [
            "_________________________________________________________________\n",
            "Layer (type)                 Output Shape              Param #   \n",
            "=================================================================\n",
            "input_13 (InputLayer)        (None, 466)               0         \n",
            "_________________________________________________________________\n",
            "embedding_13 (Embedding)     (None, 466, 100)          1148700   \n",
            "_________________________________________________________________\n",
            "conv1d_13 (Conv1D)           (None, 462, 128)          64128     \n",
            "_________________________________________________________________\n",
            "global_max_pooling1d_13 (Glo (None, 128)               0         \n",
            "_________________________________________________________________\n",
            "dense_25 (Dense)             (None, 64)                8256      \n",
            "_________________________________________________________________\n",
            "dense_26 (Dense)             (None, 47)                3055      \n",
            "=================================================================\n",
            "Total params: 1,224,139\n",
            "Trainable params: 1,224,139\n",
            "Non-trainable params: 0\n",
            "_________________________________________________________________\n",
            "Epoch 1/3\n",
            "84/84 [==============================] - 2s 26ms/step - loss: 2.3189 - acc: 0.4610\n",
            "Epoch 2/3\n",
            "84/84 [==============================] - 1s 11ms/step - loss: 1.5700 - acc: 0.6568\n",
            "Epoch 3/3\n",
            "84/84 [==============================] - 1s 11ms/step - loss: 1.3035 - acc: 0.6901\n"
          ],
          "name": "stdout"
        }
      ]
    },
    {
      "cell_type": "code",
      "metadata": {
        "id": "hTns7OX67Bjc",
        "colab_type": "code",
        "outputId": "73774aad-98c5-4d0a-b96d-1c6973b4d62a",
        "colab": {
          "base_uri": "https://localhost:8080/",
          "height": 52
        }
      },
      "source": [
        "#Predicting from pre-ensemble models\n",
        "test_predictions = prediction(models, X_test)\n",
        "   \n",
        "\n",
        "#Predict on final model\n",
        "X_predict = [[str(j) for j in i ] + k for k,i in zip(X_test, test_predictions) ]\n",
        "\n",
        "#Final accuracy\n",
        "print(\"Ensemble accuracy:\")\n",
        "print(accuracy_score(classifier.predict(X_predict), y_test))"
      ],
      "execution_count": 29,
      "outputs": [
        {
          "output_type": "stream",
          "text": [
            "Ensemble accuracy:\n",
            "0.684772929652716\n"
          ],
          "name": "stdout"
        }
      ]
    }
  ]
}