{
  "nbformat": 4,
  "nbformat_minor": 0,
  "metadata": {
    "colab": {
      "name": "Soft_ensembling.ipynb",
      "version": "0.3.2",
      "provenance": [],
      "collapsed_sections": [],
      "include_colab_link": true
    },
    "kernelspec": {
      "name": "python3",
      "display_name": "Python 3"
    },
    "accelerator": "GPU"
  },
  "cells": [
    {
      "cell_type": "markdown",
      "metadata": {
        "id": "view-in-github",
        "colab_type": "text"
      },
      "source": [
        "<a href=\"https://colab.research.google.com/github/aghabayli/ensemble/blob/master/Soft_ensembling.ipynb\" target=\"_parent\"><img src=\"https://colab.research.google.com/assets/colab-badge.svg\" alt=\"Open In Colab\"/></a>"
      ]
    },
    {
      "cell_type": "code",
      "metadata": {
        "id": "veyD-L8KcdzZ",
        "colab_type": "code",
        "outputId": "c9aefceb-9ce8-4ec3-b033-b68b447516ca",
        "colab": {
          "base_uri": "https://localhost:8080/",
          "height": 35
        }
      },
      "source": [
        "#Connect to GPU\n",
        "import tensorflow as tf\n",
        "tf.test.gpu_device_name()"
      ],
      "execution_count": 1,
      "outputs": [
        {
          "output_type": "execute_result",
          "data": {
            "text/plain": [
              "'/device:GPU:0'"
            ]
          },
          "metadata": {
            "tags": []
          },
          "execution_count": 1
        }
      ]
    },
    {
      "cell_type": "code",
      "metadata": {
        "id": "0QNZR0hbckJ0",
        "colab_type": "code",
        "colab": {}
      },
      "source": [
        "#Connect to the google drive\n",
        "from google.colab import drive\n",
        "drive.mount('/content/gdrive')"
      ],
      "execution_count": 0,
      "outputs": []
    },
    {
      "cell_type": "code",
      "metadata": {
        "id": "qVuWE4O_exb3",
        "colab_type": "code",
        "colab": {}
      },
      "source": [
        "#Install dependencies\n",
        "\n",
        "#!apt-get install python3-venv\n",
        "#!python3 -m venv myenv/env_ensemble\n",
        "#!source myenv/env_ensemble/bin/activate\n",
        "!pip uninstall numpy==1.16.3\n",
        "!pip install numpy==1.16.1\n",
        "#!pip uninstall kashgari\n",
        "!pip install /content/gdrive/My\\ Drive/Kashgari/"
      ],
      "execution_count": 0,
      "outputs": []
    },
    {
      "cell_type": "markdown",
      "metadata": {
        "id": "yUb5Gfgk-UxS",
        "colab_type": "text"
      },
      "source": [
        "# Data"
      ]
    },
    {
      "cell_type": "code",
      "metadata": {
        "id": "ZVMh8a6kkDlx",
        "colab_type": "code",
        "colab": {
          "base_uri": "https://localhost:8080/",
          "height": 70
        },
        "outputId": "e92fbc7e-70da-4e51-e1f4-d5e7ac0e7860"
      },
      "source": [
        "#Import libraries\n",
        "from keras.datasets import reuters\n",
        "import numpy as np\n",
        "from sklearn.model_selection import train_test_split\n",
        "\n",
        "#Download the Reuters data set from Keras\n",
        "(X_data, y_data), (X_test, y_test)  = reuters.load_data(path=\"../reuters.npz\", num_words=None,skip_top=0,maxlen=None,test_split=0.2,seed=113,start_char=1,oov_char=2,index_from=3)\n",
        "\n",
        "#Split validation data\n",
        "X_train, X_val, y_train, y_val = train_test_split(X_data, y_data, test_size=0.60, random_state=113)"
      ],
      "execution_count": 1,
      "outputs": [
        {
          "output_type": "stream",
          "text": [
            "Using TensorFlow backend.\n"
          ],
          "name": "stderr"
        },
        {
          "output_type": "stream",
          "text": [
            "Downloading data from https://s3.amazonaws.com/text-datasets/reuters.npz\n",
            "2113536/2110848 [==============================] - 0s 0us/step\n"
          ],
          "name": "stdout"
        }
      ]
    },
    {
      "cell_type": "code",
      "metadata": {
        "id": "1BG1YvzMr57e",
        "colab_type": "code",
        "outputId": "3300fff9-ebcb-44f8-dfe3-c55cf459fe6d",
        "colab": {
          "base_uri": "https://localhost:8080/",
          "height": 72
        }
      },
      "source": [
        "#Print example of input data\n",
        "print(X_train[0])\n",
        "print(y_train[0])\n"
      ],
      "execution_count": 2,
      "outputs": [
        {
          "output_type": "stream",
          "text": [
            "[1, 37, 412, 961, 202, 10, 146, 1315, 878, 466, 750, 445, 7, 91, 6, 10, 135, 32, 767, 11, 58, 83, 59, 20, 5, 4, 2023, 4, 1427, 213, 8, 7, 93, 878, 466, 961, 202, 27, 42, 8207, 553, 360, 639, 6, 12, 1477, 11, 58, 83, 72, 20, 16, 8, 4, 1832, 4203, 135, 7, 91, 348, 5739, 10745, 11480, 202, 10, 146, 2442, 18, 6, 32, 818, 11, 58, 83, 63, 20, 22, 6906, 12, 160, 11, 160, 32, 20, 91, 34, 4, 8454, 4494, 433, 22, 10, 2580, 54, 1489, 5, 160, 59, 20, 4, 1427, 213, 8, 961, 40, 1909, 6, 136, 109, 11, 13, 4, 99, 216, 7, 117, 109, 206, 4, 91, 302, 5, 750, 18, 34, 4, 473, 499, 224, 4045, 62, 99, 2344, 7, 10950, 1427, 262, 7221, 11801, 8, 137, 2554, 57, 994, 488, 305, 2260, 7, 295, 277, 961, 281, 4, 585, 29, 36, 152, 4, 54, 216, 4, 466, 135, 5, 4046, 34, 420, 109, 11, 34, 429, 1049, 184, 4, 1832, 135, 34, 54, 420, 52, 320, 7, 252, 1600, 17, 12]\n",
            "30\n"
          ],
          "name": "stdout"
        }
      ]
    },
    {
      "cell_type": "code",
      "metadata": {
        "id": "kvHGG--rkLm3",
        "colab_type": "code",
        "colab": {}
      },
      "source": [
        "#Constructing data to available input format at Kashgari\n",
        "X_train = [[str(j) for j in i ]for i in X_train ]\n",
        "y_train = [ str(i) for i in y_train ]\n",
        "\n",
        "X_val = [[str(j) for j in i ]for i in X_val ]\n",
        "y_val = [ str(i) for i in y_val ]\n",
        "\n",
        "X_test = [[str(j) for j in i ]for i in X_test ]\n",
        "y_test = [ str(i) for i in y_test ]"
      ],
      "execution_count": 0,
      "outputs": []
    },
    {
      "cell_type": "code",
      "metadata": {
        "id": "Gii8iZZRtlmj",
        "colab_type": "code",
        "outputId": "c93f3c19-fd22-480f-ffc2-ff3647dba6ba",
        "colab": {
          "base_uri": "https://localhost:8080/",
          "height": 72
        }
      },
      "source": [
        "#Print example after constructing\n",
        "print(X_train[0])\n",
        "y_train[0]"
      ],
      "execution_count": 4,
      "outputs": [
        {
          "output_type": "stream",
          "text": [
            "['1', '37', '412', '961', '202', '10', '146', '1315', '878', '466', '750', '445', '7', '91', '6', '10', '135', '32', '767', '11', '58', '83', '59', '20', '5', '4', '2023', '4', '1427', '213', '8', '7', '93', '878', '466', '961', '202', '27', '42', '8207', '553', '360', '639', '6', '12', '1477', '11', '58', '83', '72', '20', '16', '8', '4', '1832', '4203', '135', '7', '91', '348', '5739', '10745', '11480', '202', '10', '146', '2442', '18', '6', '32', '818', '11', '58', '83', '63', '20', '22', '6906', '12', '160', '11', '160', '32', '20', '91', '34', '4', '8454', '4494', '433', '22', '10', '2580', '54', '1489', '5', '160', '59', '20', '4', '1427', '213', '8', '961', '40', '1909', '6', '136', '109', '11', '13', '4', '99', '216', '7', '117', '109', '206', '4', '91', '302', '5', '750', '18', '34', '4', '473', '499', '224', '4045', '62', '99', '2344', '7', '10950', '1427', '262', '7221', '11801', '8', '137', '2554', '57', '994', '488', '305', '2260', '7', '295', '277', '961', '281', '4', '585', '29', '36', '152', '4', '54', '216', '4', '466', '135', '5', '4046', '34', '420', '109', '11', '34', '429', '1049', '184', '4', '1832', '135', '34', '54', '420', '52', '320', '7', '252', '1600', '17', '12']\n"
          ],
          "name": "stdout"
        },
        {
          "output_type": "execute_result",
          "data": {
            "text/plain": [
              "'30'"
            ]
          },
          "metadata": {
            "tags": []
          },
          "execution_count": 4
        }
      ]
    },
    {
      "cell_type": "markdown",
      "metadata": {
        "id": "yHwJQyZt-BRF",
        "colab_type": "text"
      },
      "source": [
        "# Training"
      ]
    },
    {
      "cell_type": "code",
      "metadata": {
        "id": "aTjKC8vEz0AP",
        "colab_type": "code",
        "colab": {}
      },
      "source": [
        "#Import libraries to train\n",
        "from kashgari.tasks.classification import CNNModel\n",
        "from sklearn.metrics import accuracy_score, confusion_matrix\n",
        "from numpy import dstack"
      ],
      "execution_count": 0,
      "outputs": []
    },
    {
      "cell_type": "code",
      "metadata": {
        "id": "_nrDB_zZZnKD",
        "colab_type": "code",
        "colab": {}
      },
      "source": [
        "def prediction(models, X_data, y_data = None):\n",
        "\n",
        "  predictions = None\n",
        "\n",
        "  #Predict for each individual model\n",
        "  for model in models:\n",
        "    #Soft classification prediction\n",
        "    pr = model.predict(X_data, soft=True)\n",
        "    \n",
        "    #model.evaluate(X_data, y_data)\n",
        "    \n",
        "    #Stacking depth wise\n",
        "    if predictions is None:\n",
        "      predictions = np.array(pr)\n",
        "    else:\n",
        "      predictions = dstack((predictions, np.array(pr)))\n",
        "  return predictions"
      ],
      "execution_count": 0,
      "outputs": []
    },
    {
      "cell_type": "code",
      "metadata": {
        "id": "o5Tv-PVUZnTH",
        "colab_type": "code",
        "outputId": "abd1970b-915a-4029-c024-f6d6cbe1f5eb",
        "colab": {
          "base_uri": "https://localhost:8080/",
          "height": 2239
        }
      },
      "source": [
        "predictions = None\n",
        "#Create a list to pre-ensem ble models\n",
        "models = list()\n",
        "\n",
        "#Number of indivsual models\n",
        "n=5\n",
        "\n",
        "#Train n individual models\n",
        "for i in range(n):\n",
        "    # CNN Model\n",
        "    classifier = CNNModel()\n",
        "    #Fit train data\n",
        "    classifier.fit(X_train,y_train, multi_label=True, epochs = 3)\n",
        "    #Append to list trained classifier\n",
        "    models.append(classifier)\n",
        "    #Predict soft classification on train data\n",
        "    predicted = classifier.predict(X_train, soft=True)\n",
        "    #Stack all predictions \n",
        "    if predictions is None:\n",
        "        predictions = np.array(predicted)\n",
        "    else:\n",
        "        #Stack depth wise\n",
        "        predictions = dstack((predictions, np.array(predicted)))"
      ],
      "execution_count": 14,
      "outputs": [
        {
          "output_type": "stream",
          "text": [
            "_________________________________________________________________\n",
            "Layer (type)                 Output Shape              Param #   \n",
            "=================================================================\n",
            "input_10 (InputLayer)        (None, 450)               0         \n",
            "_________________________________________________________________\n",
            "embedding_10 (Embedding)     (None, 450, 100)          959800    \n",
            "_________________________________________________________________\n",
            "conv1d_10 (Conv1D)           (None, 446, 128)          64128     \n",
            "_________________________________________________________________\n",
            "global_max_pooling1d_10 (Glo (None, 128)               0         \n",
            "_________________________________________________________________\n",
            "dense_19 (Dense)             (None, 64)                8256      \n",
            "_________________________________________________________________\n",
            "dense_20 (Dense)             (None, 47)                3055      \n",
            "=================================================================\n",
            "Total params: 1,035,239\n",
            "Trainable params: 1,035,239\n",
            "Non-trainable params: 0\n",
            "_________________________________________________________________\n",
            "Epoch 1/3\n",
            "56/56 [==============================] - 2s 29ms/step - loss: 2.7612 - acc: 0.3825\n",
            "Epoch 2/3\n",
            "56/56 [==============================] - 1s 11ms/step - loss: 1.8835 - acc: 0.5098\n",
            "Epoch 3/3\n",
            "56/56 [==============================] - 1s 12ms/step - loss: 1.5531 - acc: 0.6272\n",
            "_________________________________________________________________\n",
            "Layer (type)                 Output Shape              Param #   \n",
            "=================================================================\n",
            "input_11 (InputLayer)        (None, 450)               0         \n",
            "_________________________________________________________________\n",
            "embedding_11 (Embedding)     (None, 450, 100)          959800    \n",
            "_________________________________________________________________\n",
            "conv1d_11 (Conv1D)           (None, 446, 128)          64128     \n",
            "_________________________________________________________________\n",
            "global_max_pooling1d_11 (Glo (None, 128)               0         \n",
            "_________________________________________________________________\n",
            "dense_21 (Dense)             (None, 64)                8256      \n",
            "_________________________________________________________________\n",
            "dense_22 (Dense)             (None, 47)                3055      \n",
            "=================================================================\n",
            "Total params: 1,035,239\n",
            "Trainable params: 1,035,239\n",
            "Non-trainable params: 0\n",
            "_________________________________________________________________\n",
            "Epoch 1/3\n",
            "56/56 [==============================] - 2s 27ms/step - loss: 2.8951 - acc: 0.3733\n",
            "Epoch 2/3\n",
            "56/56 [==============================] - 1s 12ms/step - loss: 1.8536 - acc: 0.5212\n",
            "Epoch 3/3\n",
            "56/56 [==============================] - 1s 13ms/step - loss: 1.5442 - acc: 0.6319\n",
            "_________________________________________________________________\n",
            "Layer (type)                 Output Shape              Param #   \n",
            "=================================================================\n",
            "input_12 (InputLayer)        (None, 450)               0         \n",
            "_________________________________________________________________\n",
            "embedding_12 (Embedding)     (None, 450, 100)          959800    \n",
            "_________________________________________________________________\n",
            "conv1d_12 (Conv1D)           (None, 446, 128)          64128     \n",
            "_________________________________________________________________\n",
            "global_max_pooling1d_12 (Glo (None, 128)               0         \n",
            "_________________________________________________________________\n",
            "dense_23 (Dense)             (None, 64)                8256      \n",
            "_________________________________________________________________\n",
            "dense_24 (Dense)             (None, 47)                3055      \n",
            "=================================================================\n",
            "Total params: 1,035,239\n",
            "Trainable params: 1,035,239\n",
            "Non-trainable params: 0\n",
            "_________________________________________________________________\n",
            "Epoch 1/3\n",
            "56/56 [==============================] - 2s 32ms/step - loss: 2.6893 - acc: 0.4037\n",
            "Epoch 2/3\n",
            "56/56 [==============================] - 1s 13ms/step - loss: 1.8673 - acc: 0.5190\n",
            "Epoch 3/3\n",
            "56/56 [==============================] - 1s 13ms/step - loss: 1.5469 - acc: 0.6303\n",
            "_________________________________________________________________\n",
            "Layer (type)                 Output Shape              Param #   \n",
            "=================================================================\n",
            "input_13 (InputLayer)        (None, 450)               0         \n",
            "_________________________________________________________________\n",
            "embedding_13 (Embedding)     (None, 450, 100)          959800    \n",
            "_________________________________________________________________\n",
            "conv1d_13 (Conv1D)           (None, 446, 128)          64128     \n",
            "_________________________________________________________________\n",
            "global_max_pooling1d_13 (Glo (None, 128)               0         \n",
            "_________________________________________________________________\n",
            "dense_25 (Dense)             (None, 64)                8256      \n",
            "_________________________________________________________________\n",
            "dense_26 (Dense)             (None, 47)                3055      \n",
            "=================================================================\n",
            "Total params: 1,035,239\n",
            "Trainable params: 1,035,239\n",
            "Non-trainable params: 0\n",
            "_________________________________________________________________\n",
            "Epoch 1/3\n",
            "56/56 [==============================] - 2s 33ms/step - loss: 2.8076 - acc: 0.3703\n",
            "Epoch 2/3\n",
            "56/56 [==============================] - 1s 12ms/step - loss: 1.8663 - acc: 0.5084\n",
            "Epoch 3/3\n",
            "56/56 [==============================] - 1s 12ms/step - loss: 1.5216 - acc: 0.6431\n",
            "_________________________________________________________________\n",
            "Layer (type)                 Output Shape              Param #   \n",
            "=================================================================\n",
            "input_14 (InputLayer)        (None, 450)               0         \n",
            "_________________________________________________________________\n",
            "embedding_14 (Embedding)     (None, 450, 100)          959800    \n",
            "_________________________________________________________________\n",
            "conv1d_14 (Conv1D)           (None, 446, 128)          64128     \n",
            "_________________________________________________________________\n",
            "global_max_pooling1d_14 (Glo (None, 128)               0         \n",
            "_________________________________________________________________\n",
            "dense_27 (Dense)             (None, 64)                8256      \n",
            "_________________________________________________________________\n",
            "dense_28 (Dense)             (None, 47)                3055      \n",
            "=================================================================\n",
            "Total params: 1,035,239\n",
            "Trainable params: 1,035,239\n",
            "Non-trainable params: 0\n",
            "_________________________________________________________________\n",
            "Epoch 1/3\n",
            "56/56 [==============================] - 2s 32ms/step - loss: 2.7496 - acc: 0.3591\n",
            "Epoch 2/3\n",
            "56/56 [==============================] - 1s 12ms/step - loss: 1.8925 - acc: 0.5137\n",
            "Epoch 3/3\n",
            "56/56 [==============================] - 1s 12ms/step - loss: 1.5705 - acc: 0.6242\n"
          ],
          "name": "stdout"
        }
      ]
    },
    {
      "cell_type": "code",
      "metadata": {
        "id": "vY8XgZtmZnbi",
        "colab_type": "code",
        "colab": {}
      },
      "source": [
        ""
      ],
      "execution_count": 0,
      "outputs": []
    },
    {
      "cell_type": "markdown",
      "metadata": {
        "id": "Wjx2bQbwBynm",
        "colab_type": "text"
      },
      "source": [
        "### Predicting from indivdual models and training ensemble "
      ]
    },
    {
      "cell_type": "code",
      "metadata": {
        "id": "Q5S8FJnwljrC",
        "colab_type": "code",
        "outputId": "6887351b-044d-4742-849d-7d5744a77049",
        "colab": {
          "base_uri": "https://localhost:8080/",
          "height": 532
        }
      },
      "source": [
        "#CNN model from Kashgari\n",
        "classifier = CNNModel()\n",
        "\n",
        "#Predicting from pre-ensemble models   \n",
        "val_predictions = prediction(models, X_val)\n",
        "\n",
        "#Reshape to 2D array     \n",
        "X_predict =  val_predictions.reshape(val_predictions.shape[0], val_predictions.shape[1]*val_predictions.shape[2])\n",
        "\n",
        "#Round probabilities to two digits\n",
        "X_predict = np.around(X_predict, 2)\n",
        "\n",
        "#Structure predictions to Kashgari input format\n",
        "X_predict = [[str(j) for j in i ]for i in X_predict ]\n",
        "\n",
        "#Fit predicted probabilities as the input to the model\n",
        "classifier.fit(X_predict, y_val, epochs=5)\n",
        "\n",
        "#Predict on final model\n",
        "ensemble_pr = classifier.predict(X_predict)\n",
        "\n",
        "#print(confusion_matrix(y_val, ensemble_pr))"
      ],
      "execution_count": 20,
      "outputs": [
        {
          "output_type": "stream",
          "text": [
            "_________________________________________________________________\n",
            "Layer (type)                 Output Shape              Param #   \n",
            "=================================================================\n",
            "input_17 (InputLayer)        (None, 235)               0         \n",
            "_________________________________________________________________\n",
            "embedding_17 (Embedding)     (None, 235, 100)          10500     \n",
            "_________________________________________________________________\n",
            "conv1d_17 (Conv1D)           (None, 231, 128)          64128     \n",
            "_________________________________________________________________\n",
            "global_max_pooling1d_17 (Glo (None, 128)               0         \n",
            "_________________________________________________________________\n",
            "dense_33 (Dense)             (None, 64)                8256      \n",
            "_________________________________________________________________\n",
            "dense_34 (Dense)             (None, 47)                3055      \n",
            "=================================================================\n",
            "Total params: 85,939\n",
            "Trainable params: 85,939\n",
            "Non-trainable params: 0\n",
            "_________________________________________________________________\n",
            "Epoch 1/5\n",
            "84/84 [==============================] - 3s 31ms/step - loss: 2.4723 - acc: 0.3952\n",
            "Epoch 2/5\n",
            "84/84 [==============================] - 1s 14ms/step - loss: 1.7294 - acc: 0.5663\n",
            "Epoch 3/5\n",
            "84/84 [==============================] - 1s 14ms/step - loss: 1.5834 - acc: 0.6212\n",
            "Epoch 4/5\n",
            "84/84 [==============================] - 1s 14ms/step - loss: 1.4722 - acc: 0.6550\n",
            "Epoch 5/5\n",
            "84/84 [==============================] - 1s 14ms/step - loss: 1.3982 - acc: 0.6739\n"
          ],
          "name": "stdout"
        }
      ]
    },
    {
      "cell_type": "markdown",
      "metadata": {
        "id": "eX8JJUKq638I",
        "colab_type": "text"
      },
      "source": [
        "### Classification of test data"
      ]
    },
    {
      "cell_type": "code",
      "metadata": {
        "id": "z6quFp-7Bflv",
        "colab_type": "code",
        "outputId": "87056317-4333-41a0-8713-740c7aa04015",
        "colab": {
          "base_uri": "https://localhost:8080/",
          "height": 52
        }
      },
      "source": [
        "#Predicting from pre-ensemble models\n",
        "test_predictions = prediction(models, X_test)\n",
        "    \n",
        "#Reshape to 2D    \n",
        "X_predict =  test_predictions.reshape(test_predictions.shape[0], test_predictions.shape[1]*test_predictions.shape[2])\n",
        "\n",
        "#Round probabilities to two digits\n",
        "X_predict = np.around(X_predict, 2)\n",
        "\n",
        "#Predict on final model\n",
        "X_predict = [[str(j) for j in i ]for i in X_predict ]\n",
        "\n",
        "#Final accuracy\n",
        "print(\"Ensemble accuracy:\")\n",
        "print(accuracy_score(classifier.predict(X_predict), y_test))"
      ],
      "execution_count": 25,
      "outputs": [
        {
          "output_type": "stream",
          "text": [
            "Ensemble accuracy:\n",
            "0.666073018699911\n"
          ],
          "name": "stdout"
        }
      ]
    },
    {
      "cell_type": "markdown",
      "metadata": {
        "id": "1oLRT_Hn66W6",
        "colab_type": "text"
      },
      "source": [
        "# Treating Classification Outputs as Additional Features"
      ]
    },
    {
      "cell_type": "code",
      "metadata": {
        "id": "qprM5jaE68W4",
        "colab_type": "code",
        "outputId": "dc9386c1-930c-4dff-e6a9-52ff894a770d",
        "colab": {
          "base_uri": "https://localhost:8080/",
          "height": 497
        }
      },
      "source": [
        "#CNN model from Kashgari\n",
        "classifier = CNNModel()\n",
        "\n",
        "#Predicting from pre-ensemble models   \n",
        "val_predictions = prediction(models, X_val)\n",
        "\n",
        "#Reshape to 2D array\n",
        "X_predict =  val_predictions.reshape(val_predictions.shape[0], val_predictions.shape[1]*val_predictions.shape[2])\n",
        "\n",
        "#Round probabilities to two digits\n",
        "X_predict = np.around(X_predict, 2)\n",
        "\n",
        "#Concatinating probabilities from indivudal models with input data\n",
        "X_predict = [[str(j) for j in i ] + k for k,i in zip(X_val, X_predict)]\n",
        "\n",
        "\n",
        "#Fit predicted probabilities as the input to the model\n",
        "classifier.fit(X_predict, y_val, epochs=4)\n",
        "\n",
        "#Predict on final model\n",
        "ensemble_pr = classifier.predict(X_predict)\n",
        "\n",
        "\n",
        "#classifier.evaluate(X_predict, y_val)\n",
        "#print(confusion_matrix(y_val, ensemble_pr))"
      ],
      "execution_count": 31,
      "outputs": [
        {
          "output_type": "stream",
          "text": [
            "_________________________________________________________________\n",
            "Layer (type)                 Output Shape              Param #   \n",
            "=================================================================\n",
            "input_20 (InputLayer)        (None, 696)               0         \n",
            "_________________________________________________________________\n",
            "embedding_20 (Embedding)     (None, 696, 100)          1158700   \n",
            "_________________________________________________________________\n",
            "conv1d_20 (Conv1D)           (None, 692, 128)          64128     \n",
            "_________________________________________________________________\n",
            "global_max_pooling1d_20 (Glo (None, 128)               0         \n",
            "_________________________________________________________________\n",
            "dense_39 (Dense)             (None, 64)                8256      \n",
            "_________________________________________________________________\n",
            "dense_40 (Dense)             (None, 47)                3055      \n",
            "=================================================================\n",
            "Total params: 1,234,139\n",
            "Trainable params: 1,234,139\n",
            "Non-trainable params: 0\n",
            "_________________________________________________________________\n",
            "Epoch 1/4\n",
            "84/84 [==============================] - 4s 45ms/step - loss: 2.4313 - acc: 0.4350\n",
            "Epoch 2/4\n",
            "84/84 [==============================] - 2s 22ms/step - loss: 1.6208 - acc: 0.6030\n",
            "Epoch 3/4\n",
            "84/84 [==============================] - 2s 22ms/step - loss: 1.3162 - acc: 0.7004\n",
            "Epoch 4/4\n",
            "84/84 [==============================] - 2s 21ms/step - loss: 1.0308 - acc: 0.7610\n"
          ],
          "name": "stdout"
        }
      ]
    },
    {
      "cell_type": "code",
      "metadata": {
        "id": "hTns7OX67Bjc",
        "colab_type": "code",
        "outputId": "8fd73b59-cb86-42b5-90f4-d1426818a75e",
        "colab": {
          "base_uri": "https://localhost:8080/",
          "height": 52
        }
      },
      "source": [
        "#Predicting from pre-ensemble models\n",
        "test_predictions = prediction(models, X_test)\n",
        "    \n",
        "#Reshape to 2D    \n",
        "X_predict =  test_predictions.reshape(test_predictions.shape[0], test_predictions.shape[1]*test_predictions.shape[2])\n",
        "\n",
        "#Round probabilities to two digits\n",
        "X_predict = np.around(X_predict, 2)\n",
        "\n",
        "#Predict on final model\n",
        "\n",
        "X_predict = [[str(j) for j in i ] + k for k,i in zip(X_test, X_predict) ]\n",
        "\n",
        "#Final accuracy\n",
        "print(\"Ensemble accuracy:\")\n",
        "print(accuracy_score(classifier.predict(X_predict), y_test))"
      ],
      "execution_count": 33,
      "outputs": [
        {
          "output_type": "stream",
          "text": [
            "Ensemble accuracy:\n",
            "0.7243989314336599\n"
          ],
          "name": "stdout"
        }
      ]
    }
  ]
}